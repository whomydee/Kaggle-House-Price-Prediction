{
 "cells": [
  {
   "cell_type": "markdown",
   "metadata": {
    "id": "wJFZNxFAi2Fq"
   },
   "source": [
    "### Solving house price prediction Problem from Kaggle.\n",
    "\n",
    "Problem Link: https://www.kaggle.com/c/house-prices-advanced-regression-techniques/data"
   ]
  },
  {
   "cell_type": "code",
   "execution_count": 145,
   "metadata": {
    "colab": {
     "base_uri": "https://localhost:8080/"
    },
    "id": "Iv8eXT6ni2Fy",
    "outputId": "594fa290-adf0-4558-9b0c-de792fbeb119",
    "scrolled": false
   },
   "outputs": [],
   "source": [
    "import pandas as pd\n",
    "import os\n",
    "\n",
    "pd.options.display.max_rows = 4000\n",
    "\n",
    "location_dataset = \"C://Users//shad_//Desktop//2. Fall 2020//CSE 6023 (Machine Learning)//Submission//Project//_assets//Dataset//house-prices-advanced-regression-techniques\"\n",
    "\n",
    "location_trainData = location_dataset + \"//train.csv\"\n",
    "location_testData = location_dataset + \"//test.csv\"\n",
    "\n",
    "trainData = pd.read_csv(location_trainData)\n",
    "testData = pd.read_csv(location_testData)\n",
    "\n",
    "trainLabel = trainData[\"SalePrice\"]\n",
    "\n",
    "\n",
    "#print(shadData)"
   ]
  },
  {
   "cell_type": "markdown",
   "metadata": {},
   "source": [
    "### Preprocessing Starts here"
   ]
  },
  {
   "cell_type": "markdown",
   "metadata": {},
   "source": [
    "Dropping all the features that has around 50% of Null Value for Training Data."
   ]
  },
  {
   "cell_type": "code",
   "execution_count": 146,
   "metadata": {
    "scrolled": true
   },
   "outputs": [],
   "source": [
    "trainData.drop(['Id', 'Alley', 'FireplaceQu', 'PoolQC', 'Fence', 'MiscFeature', 'SalePrice'], inplace=True, axis = 1)"
   ]
  },
  {
   "cell_type": "markdown",
   "metadata": {},
   "source": [
    "Replacing the Null Values with mean values of associated columns for numerical data for Training Data."
   ]
  },
  {
   "cell_type": "code",
   "execution_count": 147,
   "metadata": {
    "scrolled": true
   },
   "outputs": [],
   "source": [
    "trainData[\"LotFrontage\"] = trainData[\"LotFrontage\"].fillna(trainData[\"LotFrontage\"].mean())\n",
    "trainData[\"MasVnrArea\"] = trainData[\"MasVnrArea\"].fillna(trainData[\"MasVnrArea\"].mean())"
   ]
  },
  {
   "cell_type": "markdown",
   "metadata": {},
   "source": [
    "Replacing the Null Values with mode values of associated columns for nominal/categorical data for Training Data."
   ]
  },
  {
   "cell_type": "code",
   "execution_count": 148,
   "metadata": {
    "scrolled": true
   },
   "outputs": [],
   "source": [
    "trainData[\"BsmtQual\"] = trainData[\"BsmtQual\"].fillna(trainData[\"BsmtQual\"].mode()[0])\n",
    "trainData[\"BsmtCond\"] = trainData[\"BsmtCond\"].fillna(trainData[\"BsmtCond\"].mode()[0])\n",
    "trainData[\"BsmtExposure\"] = trainData[\"BsmtExposure\"].fillna(trainData[\"BsmtExposure\"].mode()[0])\n",
    "trainData[\"BsmtFinType1\"] = trainData[\"BsmtFinType1\"].fillna(trainData[\"BsmtFinType1\"].mode()[0])\n",
    "trainData[\"BsmtFinType2\"] = trainData[\"BsmtFinType2\"].fillna(trainData[\"BsmtFinType2\"].mode()[0])\n",
    "trainData[\"GarageType\"] = trainData[\"GarageType\"].fillna(trainData[\"GarageType\"].mode()[0])\n",
    "trainData[\"GarageYrBlt\"] = trainData[\"GarageYrBlt\"].fillna(trainData[\"GarageYrBlt\"].mode()[0])\n",
    "trainData[\"GarageFinish\"] = trainData[\"GarageFinish\"].fillna(trainData[\"GarageFinish\"].mode()[0])\n",
    "trainData[\"GarageQual\"] = trainData[\"GarageQual\"].fillna(trainData[\"GarageQual\"].mode()[0])\n",
    "trainData[\"GarageCond\"] = trainData[\"GarageCond\"].fillna(trainData[\"GarageCond\"].mode()[0])\n",
    "trainData[\"MasVnrType\"] = trainData[\"MasVnrType\"].fillna(trainData[\"MasVnrType\"].mode()[0])\n",
    "trainData[\"Electrical\"] = trainData[\"Electrical\"].fillna(trainData[\"Electrical\"].mode()[0])\n",
    "\n",
    "#trainData.head()"
   ]
  },
  {
   "cell_type": "raw",
   "metadata": {},
   "source": [
    "Dropping all the features that has around 50% of Null Value for Testing Data."
   ]
  },
  {
   "cell_type": "code",
   "execution_count": 149,
   "metadata": {
    "scrolled": true
   },
   "outputs": [],
   "source": [
    "testData.drop(['Id', 'Alley', 'FireplaceQu', 'PoolQC', 'Fence', 'MiscFeature'], inplace=True, axis = 1)"
   ]
  },
  {
   "cell_type": "markdown",
   "metadata": {},
   "source": [
    "Replacing the Null Values with mean values of associated columns for numerical data for Testing Data."
   ]
  },
  {
   "cell_type": "code",
   "execution_count": 150,
   "metadata": {
    "scrolled": true
   },
   "outputs": [],
   "source": [
    "testData[\"LotFrontage\"] = testData[\"LotFrontage\"].fillna(testData[\"LotFrontage\"].mean())\n",
    "testData[\"MasVnrArea\"] = testData[\"MasVnrArea\"].fillna(testData[\"MasVnrArea\"].mean())\n",
    "testData[\"BsmtFinSF1\"] = testData[\"BsmtFinSF1\"].fillna(testData[\"BsmtFinSF1\"].mean())\n",
    "testData[\"BsmtFinSF2\"] = testData[\"BsmtFinSF2\"].fillna(testData[\"BsmtFinSF2\"].mean())\n",
    "testData[\"BsmtUnfSF\"] = testData[\"BsmtUnfSF\"].fillna(testData[\"BsmtUnfSF\"].mean())\n",
    "testData[\"TotalBsmtSF\"] = testData[\"TotalBsmtSF\"].fillna(testData[\"TotalBsmtSF\"].mean())\n",
    "testData[\"GarageArea\"] = testData[\"GarageArea\"].fillna(testData[\"GarageArea\"].mean())"
   ]
  },
  {
   "cell_type": "markdown",
   "metadata": {},
   "source": [
    "Replacing the Null Values with mode values of associated columns for numerical data for Testing Data."
   ]
  },
  {
   "cell_type": "code",
   "execution_count": 151,
   "metadata": {
    "scrolled": true
   },
   "outputs": [],
   "source": [
    "testData[\"BsmtQual\"] = testData[\"BsmtQual\"].fillna(testData[\"BsmtQual\"].mode()[0])\n",
    "testData[\"BsmtCond\"] = testData[\"BsmtCond\"].fillna(testData[\"BsmtCond\"].mode()[0])\n",
    "testData[\"BsmtExposure\"] = testData[\"BsmtExposure\"].fillna(testData[\"BsmtExposure\"].mode()[0])\n",
    "testData[\"BsmtFinType1\"] = testData[\"BsmtFinType1\"].fillna(testData[\"BsmtFinType1\"].mode()[0])\n",
    "testData[\"BsmtFinType2\"] = testData[\"BsmtFinType2\"].fillna(testData[\"BsmtFinType2\"].mode()[0])\n",
    "testData[\"GarageType\"] = testData[\"GarageType\"].fillna(testData[\"GarageType\"].mode()[0])\n",
    "testData[\"GarageYrBlt\"] = testData[\"GarageYrBlt\"].fillna(testData[\"GarageYrBlt\"].mode()[0])\n",
    "testData[\"GarageFinish\"] = testData[\"GarageFinish\"].fillna(testData[\"GarageFinish\"].mode()[0])\n",
    "testData[\"GarageQual\"] = testData[\"GarageQual\"].fillna(testData[\"GarageQual\"].mode()[0])\n",
    "testData[\"GarageCond\"] = testData[\"GarageCond\"].fillna(testData[\"GarageCond\"].mode()[0])\n",
    "testData[\"MasVnrType\"] = testData[\"MasVnrType\"].fillna(testData[\"MasVnrType\"].mode()[0])\n",
    "testData[\"Electrical\"] = testData[\"Electrical\"].fillna(testData[\"Electrical\"].mode()[0])\n",
    "testData[\"MSZoning\"] = testData[\"MSZoning\"].fillna(testData[\"MSZoning\"].mode()[0])\n",
    "testData[\"Utilities\"] = testData[\"Utilities\"].fillna(testData[\"Utilities\"].mode()[0])\n",
    "testData[\"Exterior1st\"] = testData[\"Exterior1st\"].fillna(testData[\"Exterior1st\"].mode()[0])\n",
    "testData[\"Exterior2nd\"] = testData[\"Exterior2nd\"].fillna(testData[\"Exterior2nd\"].mode()[0])\n",
    "testData[\"BsmtFullBath\"] = testData[\"BsmtFullBath\"].fillna(testData[\"BsmtFullBath\"].mode()[0])\n",
    "testData[\"BsmtHalfBath\"] = testData[\"BsmtHalfBath\"].fillna(testData[\"BsmtHalfBath\"].mode()[0])\n",
    "testData[\"KitchenQual\"] = testData[\"KitchenQual\"].fillna(testData[\"KitchenQual\"].mode()[0])\n",
    "testData[\"Functional\"] = testData[\"Functional\"].fillna(testData[\"Functional\"].mode()[0])\n",
    "testData[\"GarageCars\"] = testData[\"GarageCars\"].fillna(testData[\"GarageCars\"].mode()[0])\n",
    "testData[\"SaleType\"] = testData[\"SaleType\"].fillna(testData[\"SaleType\"].mode()[0])"
   ]
  },
  {
   "cell_type": "code",
   "execution_count": 155,
   "metadata": {
    "scrolled": true
   },
   "outputs": [
    {
     "name": "stdout",
     "output_type": "stream",
     "text": [
      "#########\n",
      "[3 3 3 ... 3 3 3]\n",
      "#########\n"
     ]
    }
   ],
   "source": [
    "import numpy as np\n",
    "from sklearn.preprocessing import LabelEncoder, OneHotEncoder\n",
    "\n",
    "#pd.set_option('display.max_columns', 2000)\n",
    "#pd.set_option('display.max_rows', 100)\n",
    "\n",
    "def EncodeData(data):\n",
    "    #print(data)\n",
    "    columns = list(data.select_dtypes(['object']).columns)\n",
    "    X = data.iloc[:, :].values\n",
    "    label_enc = LabelEncoder()\n",
    "    rows = data.shape[0]\n",
    "    \n",
    "    tmp = np.array(['shad' for _ in range(rows)])\n",
    "    index_column = data.columns.get_loc('MSZoning')\n",
    "    for i in range(rows):\n",
    "         tmp[i] = X[ :, index_column:index_column+1][i][0]\n",
    "    #print(tmp)\n",
    "    tmp = label_enc.fit_transform(tmp)\n",
    "    print(tmp)\n",
    "    np.savetxt(\"shad.csv\", tmp, delimiter=\",\")\n",
    "    print(\"#########\")\n",
    "    \n",
    "    #'''\n",
    "    \n",
    "    for field in columns:\n",
    "        #print(field)\n",
    "        index_column = data.columns.get_loc(field)\n",
    "        \n",
    "        #print(tmp)\n",
    "        for i in range(rows):\n",
    "            #print(X[ :, index_column:index_column+1][i])\n",
    "            X[ :, index_column:index_column+1][i] = label_enc.fit_transform(X[ :, index_column:index_column+1][i])\n",
    "            #print(X[ :, index_column:index_column+1][i])\n",
    "    return X\n",
    "\n",
    "shadTmp = EncodeData(trainData)\n",
    "#np.savetxt(\"shad.csv\", shadTmp, delimiter=\",\")"
   ]
  },
  {
   "cell_type": "code",
   "execution_count": null,
   "metadata": {
    "scrolled": true
   },
   "outputs": [],
   "source": [
    "shad = list(trainData.select_dtypes(['object']).columns)\n",
    "print(shad)"
   ]
  },
  {
   "cell_type": "code",
   "execution_count": null,
   "metadata": {
    "scrolled": true
   },
   "outputs": [],
   "source": [
    "import numpy as np\n",
    "from sklearn.preprocessing import LabelEncoder, OneHotEncoder\n",
    "\n",
    "X = trainData.iloc[ : , : ].values\n",
    "\n",
    "#print(X[ :, 1:2])\n",
    "\n",
    "label_enc = LabelEncoder()\n",
    "\n",
    "for i in range(1460):\n",
    "    X[ :, 1:2][i] = label_enc.fit_transform(X[ :, 1:2][i])\n",
    "\n",
    "print(X)"
   ]
  }
 ],
 "metadata": {
  "colab": {
   "collapsed_sections": [],
   "name": "House Price Prediction_Machine Learning Project (CSE 6023).ipynb",
   "provenance": []
  },
  "kernelspec": {
   "display_name": "Python 3",
   "language": "python",
   "name": "python3"
  },
  "language_info": {
   "codemirror_mode": {
    "name": "ipython",
    "version": 3
   },
   "file_extension": ".py",
   "mimetype": "text/x-python",
   "name": "python",
   "nbconvert_exporter": "python",
   "pygments_lexer": "ipython3",
   "version": "3.8.5"
  }
 },
 "nbformat": 4,
 "nbformat_minor": 1
}
