{
 "cells": [
  {
   "cell_type": "code",
   "execution_count": 23,
   "metadata": {},
   "outputs": [
    {
     "name": "stdout",
     "output_type": "stream",
     "text": [
      "OneHotEncoder(handle_unknown='ignore')\n"
     ]
    }
   ],
   "source": [
    "import pandas as pd\n",
    "import os\n",
    "\n",
    "pd.options.display.max_rows = 4000\n",
    "\n",
    "location_dataset = \"C://Users//shad_//Desktop//2. Fall 2020//CSE 6023 (Machine Learning)//Submission//Project//_assets//Dataset//house-prices-advanced-regression-techniques\"\n",
    "\n",
    "location_trainData = location_dataset + \"//train.csv\"\n",
    "location_testData = location_dataset + \"//test.csv\"\n",
    "\n",
    "trainData = pd.read_csv(location_trainData)\n",
    "testData = pd.read_csv(location_testData)\n",
    "\n",
    "#shadData = trainData[\"SalePrice\"]\n",
    "\n",
    "###\n",
    "\n",
    "trainData.drop('Id', inplace=True, axis = 1)\n",
    "trainData.drop(\"Alley\", inplace=True, axis = 1)\n",
    "trainData.drop(\"FireplaceQu\", inplace=True, axis = 1)\n",
    "trainData.drop(\"PoolQC\", inplace=True, axis = 1)\n",
    "trainData.drop(\"Fence\", inplace=True, axis = 1)\n",
    "trainData.drop(\"MiscFeature\", inplace=True, axis = 1)\n",
    "trainData.drop(\"SalePrice\", inplace=True, axis = 1)\n",
    "\n",
    "trainData[\"LotFrontage\"] = trainData[\"LotFrontage\"].fillna(trainData[\"LotFrontage\"].mean())\n",
    "trainData[\"MasVnrArea\"] = trainData[\"MasVnrArea\"].fillna(trainData[\"MasVnrArea\"].mean())\n",
    "\n",
    "trainData[\"BsmtQual\"] = trainData[\"BsmtQual\"].fillna(trainData[\"BsmtQual\"].mode()[0])\n",
    "trainData[\"BsmtCond\"] = trainData[\"BsmtCond\"].fillna(trainData[\"BsmtCond\"].mode()[0])\n",
    "\n",
    "trainData[\"BsmtExposure\"] = trainData[\"BsmtExposure\"].fillna(trainData[\"BsmtExposure\"].mode()[0])\n",
    "trainData[\"BsmtFinType1\"] = trainData[\"BsmtFinType1\"].fillna(trainData[\"BsmtFinType1\"].mode()[0])\n",
    "trainData[\"BsmtFinType2\"] = trainData[\"BsmtFinType2\"].fillna(trainData[\"BsmtFinType2\"].mode()[0])\n",
    "\n",
    "trainData[\"GarageType\"] = trainData[\"GarageType\"].fillna(trainData[\"GarageType\"].mode()[0])\n",
    "trainData[\"GarageYrBlt\"] = trainData[\"GarageYrBlt\"].fillna(trainData[\"GarageYrBlt\"].mode()[0])\n",
    "trainData[\"GarageFinish\"] = trainData[\"GarageFinish\"].fillna(trainData[\"GarageFinish\"].mode()[0])\n",
    "trainData[\"GarageQual\"] = trainData[\"GarageQual\"].fillna(trainData[\"GarageQual\"].mode()[0])\n",
    "trainData[\"GarageCond\"] = trainData[\"GarageCond\"].fillna(trainData[\"GarageCond\"].mode()[0])\n",
    "trainData[\"MasVnrType\"] = trainData[\"MasVnrType\"].fillna(trainData[\"MasVnrType\"].mode()[0])\n",
    "trainData[\"Electrical\"] = trainData[\"Electrical\"].fillna(trainData[\"Electrical\"].mode()[0])\n",
    "\n",
    "trainData.head()\n",
    "\n",
    "###\n",
    "\n",
    "\n",
    "\n",
    "from sklearn.preprocessing import OneHotEncoder\n",
    "\n",
    "enc = OneHotEncoder(handle_unknown='ignore')\n",
    "drop_enc = OneHotEncoder(drop='first').fit(trainData)\n",
    "\n",
    "print(enc)\n"
   ]
  },
  {
   "cell_type": "code",
   "execution_count": null,
   "metadata": {},
   "outputs": [],
   "source": [
    "trainData.head()"
   ]
  },
  {
   "cell_type": "code",
   "execution_count": null,
   "metadata": {},
   "outputs": [],
   "source": [
    "columns=['MSZoning']"
   ]
  },
  {
   "cell_type": "code",
   "execution_count": null,
   "metadata": {
    "scrolled": true
   },
   "outputs": [],
   "source": [
    "df=pd.get_dummies(trainData[columns],drop_first=True)\n",
    "\n",
    "df.head()"
   ]
  }
 ],
 "metadata": {
  "kernelspec": {
   "display_name": "Python 3",
   "language": "python",
   "name": "python3"
  },
  "language_info": {
   "codemirror_mode": {
    "name": "ipython",
    "version": 3
   },
   "file_extension": ".py",
   "mimetype": "text/x-python",
   "name": "python",
   "nbconvert_exporter": "python",
   "pygments_lexer": "ipython3",
   "version": "3.8.5"
  }
 },
 "nbformat": 4,
 "nbformat_minor": 4
}
