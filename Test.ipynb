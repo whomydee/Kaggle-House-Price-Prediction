{
 "cells": [
  {
   "cell_type": "code",
   "execution_count": 91,
   "metadata": {},
   "outputs": [
    {
     "name": "stdout",
     "output_type": "stream",
     "text": [
      "0        Shad\n",
      "1        Shad\n",
      "2        Shad\n",
      "3        Shad\n",
      "4        Shad\n",
      "5        Shad\n",
      "6        Shad\n",
      "7        Shad\n",
      "8        Shad\n",
      "9        Shad\n",
      "10    Humydee\n",
      "11    Humydee\n",
      "12    Humydee\n",
      "13    Humydee\n",
      "14    Humydee\n",
      "15    Humydee\n",
      "16    Humydee\n",
      "17    Humydee\n",
      "18    Humydee\n",
      "19    Humydee\n",
      "Name: Shad, dtype: object\n",
      "    Trials  Rows  Subject    Group  Shad\n",
      "0        1    20        1  Control     1\n",
      "1        2    20        1  Control     1\n",
      "2        3    20        1  Control     1\n",
      "3        4    20        1  Control     1\n",
      "4        5    20        1  Control     1\n",
      "5        6    20        1  Control     1\n",
      "6        7    20        1  Control     1\n",
      "7        8    20        1  Control     1\n",
      "8        9    20        1  Control     1\n",
      "9       10    20        1  Control     1\n",
      "10      11    20        1  Control     0\n",
      "11      12    20        1  Control     0\n",
      "12      13    20        1  Control     0\n",
      "13      14    20        1  Control     0\n",
      "14      15    20        1  Control     0\n",
      "15      16    20        1  Control     0\n",
      "16      17    20        1  Control     0\n",
      "17      18    20        1  Control     0\n",
      "18      19    20        1  Control     0\n",
      "19      20    20        1  Control     0\n"
     ]
    }
   ],
   "source": [
    "import pandas as pd\n",
    "from sklearn.preprocessing import LabelEncoder\n",
    "\n",
    "trials = range(1, 21)\n",
    "n_rows = len(trials)\n",
    "shadInt = [\"Shad\"] * int(n_rows / 2) + [\"Humydee\"] * int(n_rows / 2)\n",
    "subject_id = [1] * n_rows\n",
    "group_id = ['Control'] * n_rows\n",
    "\n",
    "dict = {\"Trials\": trials,\n",
    "        \"Rows\": n_rows,\n",
    "        \"Subject\": subject_id,\n",
    "        \"Group\": group_id,\n",
    "        \"Shad\": shadInt\n",
    "       }\n",
    "\n",
    "df = pd.DataFrame(dict)\n",
    "\n",
    "label_enc = LabelEncoder()\n",
    "\n",
    "df.head()\n",
    "\n",
    "print(df[\"Shad\"])\n",
    "df[\"Shad\"]= label_enc.fit_transform(df[\"Shad\"])\n",
    "print(df)\n",
    "\n"
   ]
  }
 ],
 "metadata": {
  "kernelspec": {
   "display_name": "Python 3",
   "language": "python",
   "name": "python3"
  },
  "language_info": {
   "codemirror_mode": {
    "name": "ipython",
    "version": 3
   },
   "file_extension": ".py",
   "mimetype": "text/x-python",
   "name": "python",
   "nbconvert_exporter": "python",
   "pygments_lexer": "ipython3",
   "version": "3.8.5"
  }
 },
 "nbformat": 4,
 "nbformat_minor": 4
}
