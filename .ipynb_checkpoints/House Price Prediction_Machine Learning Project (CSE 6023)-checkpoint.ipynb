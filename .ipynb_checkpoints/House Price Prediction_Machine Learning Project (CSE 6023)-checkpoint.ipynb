{
 "cells": [
  {
   "cell_type": "markdown",
   "metadata": {},
   "source": [
    "### Solving house price prediction Problem from Kaggle.\n",
    "\n",
    "Problem Link: https://www.kaggle.com/c/house-prices-advanced-regression-techniques/data"
   ]
  },
  {
   "cell_type": "code",
   "execution_count": 3,
   "metadata": {},
   "outputs": [
    {
     "name": "stdout",
     "output_type": "stream",
     "text": [
      "C://Users//shad_//Desktop//2. Fall 2020//CSE 6023 (Machine Learning)//Submission//Project//_assets//Dataset//house-prices-advanced-regression-techniques/train.csv\n"
     ]
    }
   ],
   "source": [
    "location_dataset = \"C://Users//shad_//Desktop//2. Fall 2020//CSE 6023 (Machine Learning)//Submission//Project//_assets//Dataset//house-prices-advanced-regression-techniques/\"\n",
    "data_train = location_dataset + \"train.csv\"\n",
    "\n",
    "print(data_train)"
   ]
  }
 ],
 "metadata": {
  "kernelspec": {
   "display_name": "Python 3",
   "language": "python",
   "name": "python3"
  },
  "language_info": {
   "codemirror_mode": {
    "name": "ipython",
    "version": 3
   },
   "file_extension": ".py",
   "mimetype": "text/x-python",
   "name": "python",
   "nbconvert_exporter": "python",
   "pygments_lexer": "ipython3",
   "version": "3.8.5"
  }
 },
 "nbformat": 4,
 "nbformat_minor": 4
}
